{
 "cells": [
  {
   "cell_type": "markdown",
   "id": "a004ec6b",
   "metadata": {},
   "source": [
    "# SEMANA3"
   ]
  },
  {
   "cell_type": "markdown",
   "id": "07f900e2",
   "metadata": {},
   "source": [
    "Otazú Quispe Diego Armando"
   ]
  },
  {
   "cell_type": "code",
   "execution_count": 1,
   "id": "7999dd79",
   "metadata": {},
   "outputs": [
    {
     "data": {
      "text/plain": [
       "('Marcani', 'Chipana', 'Figueroa', 'Navarro')"
      ]
     },
     "execution_count": 1,
     "metadata": {},
     "output_type": "execute_result"
    }
   ],
   "source": [
    "tupla_aula =(\"Marcani\",\"Chipana\",\"Figueroa\",\"Navarro\")\n",
    "tupla_aula"
   ]
  },
  {
   "cell_type": "code",
   "execution_count": 2,
   "id": "fea10e86",
   "metadata": {},
   "outputs": [
    {
     "data": {
      "text/plain": [
       "'Figueroa'"
      ]
     },
     "execution_count": 2,
     "metadata": {},
     "output_type": "execute_result"
    }
   ],
   "source": [
    "tupla_aula[2]"
   ]
  },
  {
   "cell_type": "code",
   "execution_count": 3,
   "id": "601a4db5",
   "metadata": {},
   "outputs": [
    {
     "data": {
      "text/plain": [
       "4"
      ]
     },
     "execution_count": 3,
     "metadata": {},
     "output_type": "execute_result"
    }
   ],
   "source": [
    "len(tupla_aula)"
   ]
  },
  {
   "cell_type": "code",
   "execution_count": 4,
   "id": "44df3539",
   "metadata": {},
   "outputs": [
    {
     "data": {
      "text/plain": [
       "('Ramon', 'Moreno', 'Pascacio', 'Luque')"
      ]
     },
     "execution_count": 4,
     "metadata": {},
     "output_type": "execute_result"
    }
   ],
   "source": [
    "conjunto_aula = ('Ramon','Moreno','Pascacio','Luque')\n",
    "conjunto_aula"
   ]
  },
  {
   "cell_type": "code",
   "execution_count": 5,
   "id": "6c066373",
   "metadata": {},
   "outputs": [
    {
     "name": "stdout",
     "output_type": "stream",
     "text": [
      "Ramon\n",
      "Moreno\n",
      "Pascacio\n",
      "Luque\n"
     ]
    }
   ],
   "source": [
    "for alumno in conjunto_aula:\n",
    "    print(alumno)"
   ]
  },
  {
   "cell_type": "code",
   "execution_count": 6,
   "id": "632b04e2",
   "metadata": {},
   "outputs": [
    {
     "data": {
      "text/plain": [
       "'Pascacio'"
      ]
     },
     "execution_count": 6,
     "metadata": {},
     "output_type": "execute_result"
    }
   ],
   "source": [
    "conjunto_aula[2]"
   ]
  },
  {
   "cell_type": "code",
   "execution_count": 7,
   "id": "e14f5c1c",
   "metadata": {},
   "outputs": [
    {
     "data": {
      "text/plain": [
       "4"
      ]
     },
     "execution_count": 7,
     "metadata": {},
     "output_type": "execute_result"
    }
   ],
   "source": [
    "len(conjunto_aula)"
   ]
  },
  {
   "cell_type": "code",
   "execution_count": 1,
   "id": "aaa31b63",
   "metadata": {},
   "outputs": [
    {
     "ename": "NameError",
     "evalue": "name 'conjunto_aula' is not defined",
     "output_type": "error",
     "traceback": [
      "\u001b[1;31m---------------------------------------------------------------------------\u001b[0m",
      "\u001b[1;31mNameError\u001b[0m                                 Traceback (most recent call last)",
      "Input \u001b[1;32mIn [1]\u001b[0m, in \u001b[0;36m<cell line: 1>\u001b[1;34m()\u001b[0m\n\u001b[1;32m----> 1\u001b[0m \u001b[43mconjunto_aula\u001b[49m\u001b[38;5;241m.\u001b[39madd(\u001b[38;5;124m\"\u001b[39m\u001b[38;5;124mMUÑOZ\u001b[39m\u001b[38;5;124m\"\u001b[39m)\n\u001b[0;32m      2\u001b[0m conjunto_aula\n",
      "\u001b[1;31mNameError\u001b[0m: name 'conjunto_aula' is not defined"
     ]
    }
   ],
   "source": [
    "conjunto_aula.add(\"MUÑOZ\")\n",
    "conjunto_aula"
   ]
  },
  {
   "cell_type": "code",
   "execution_count": 11,
   "id": "208ba243",
   "metadata": {},
   "outputs": [
    {
     "ename": "SyntaxError",
     "evalue": "invalid syntax (3314138696.py, line 1)",
     "output_type": "error",
     "traceback": [
      "\u001b[1;36m  Input \u001b[1;32mIn [11]\u001b[1;36m\u001b[0m\n\u001b[1;33m    diccionario_aula = (2:'MUÑOZ','1':'LUQUE','DOS':'PASCACIO')\u001b[0m\n\u001b[1;37m                         ^\u001b[0m\n\u001b[1;31mSyntaxError\u001b[0m\u001b[1;31m:\u001b[0m invalid syntax\n"
     ]
    }
   ],
   "source": [
    "diccionario_aula = (2:'MUÑOZ','1':'LUQUE','DOS':'PASCACIO')"
   ]
  },
  {
   "cell_type": "code",
   "execution_count": 6,
   "id": "6e0de277",
   "metadata": {},
   "outputs": [],
   "source": [
    "##EJERCICIO 1.5\n",
    "#DADA UNA LISTA DE APELLIDOS\n",
    "#VBBERIFIQUE SI EL APELLIDO ES E LA LISTA"
   ]
  },
  {
   "cell_type": "code",
   "execution_count": 7,
   "id": "6ea6b868",
   "metadata": {},
   "outputs": [
    {
     "data": {
      "text/plain": [
       "('FIGUEROA',\n",
       " 'GARCIA',\n",
       " 'GUTIERREZ',\n",
       " 'ISLA',\n",
       " 'LOPEZ',\n",
       " 'LUQUE',\n",
       " 'MAMANI',\n",
       " 'MARCANI',\n",
       " 'MONDRAGON',\n",
       " 'MORENO',\n",
       " 'MUÑOZ',\n",
       " 'NAVARRO',\n",
       " 'OTAZU',\n",
       " 'PASCACIO',\n",
       " 'RAMON',\n",
       " 'TENORIO',\n",
       " 'VEGAS')"
      ]
     },
     "execution_count": 7,
     "metadata": {},
     "output_type": "execute_result"
    }
   ],
   "source": [
    "tupla_apellido =('FIGUEROA', 'GARCIA', 'GUTIERREZ', 'ISLA', 'LOPEZ', 'LUQUE', 'MAMANI', 'MARCANI', 'MONDRAGON', 'MORENO', 'MUÑOZ', 'NAVARRO', 'OTAZU', 'PASCACIO','RAMON', 'TENORIO', 'VEGAS')\n",
    "tupla_apellido\n",
    "\n"
   ]
  },
  {
   "cell_type": "code",
   "execution_count": 8,
   "id": "12e6a90a",
   "metadata": {},
   "outputs": [
    {
     "name": "stdout",
     "output_type": "stream",
     "text": [
      "Ingrese el apellido del estudiante: OTAZU\n",
      "El apellido está en la lista.\n"
     ]
    }
   ],
   "source": [
    "apellido_estudiante = input(\"Ingrese el apellido del estudiante: \")\n",
    "\n",
    "if apellido_estudiante in tupla_apellido:\n",
    "    print(\"El apellido está en la lista.\")\n",
    "else:\n",
    "    print(\"El apellido no está en la lista.\")"
   ]
  }
 ],
 "metadata": {
  "kernelspec": {
   "display_name": "Python 3 (ipykernel)",
   "language": "python",
   "name": "python3"
  },
  "language_info": {
   "codemirror_mode": {
    "name": "ipython",
    "version": 3
   },
   "file_extension": ".py",
   "mimetype": "text/x-python",
   "name": "python",
   "nbconvert_exporter": "python",
   "pygments_lexer": "ipython3",
   "version": "3.9.12"
  }
 },
 "nbformat": 4,
 "nbformat_minor": 5
}
