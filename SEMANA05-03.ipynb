{
 "cells": [
  {
   "cell_type": "markdown",
   "id": "6decc0f8",
   "metadata": {},
   "source": [
    "# SEMANA5"
   ]
  },
  {
   "cell_type": "markdown",
   "id": "254f585a",
   "metadata": {},
   "source": [
    "TEMAS:\n",
    "1.coleccio de datos\n",
    "2.etructuera deciivas y estructuras repetitivas\n",
    "3.funciones\n",
    "4.clases y objetos"
   ]
  },
  {
   "cell_type": "markdown",
   "id": "519a81d2",
   "metadata": {},
   "source": [
    "3.funciones"
   ]
  },
  {
   "cell_type": "code",
   "execution_count": 2,
   "id": "92bab2e5",
   "metadata": {},
   "outputs": [],
   "source": [
    "def saludo():\n",
    "    print(\"bienveido al curso de lp3\")\n",
    "    print(\"+++Python+++\")"
   ]
  },
  {
   "cell_type": "code",
   "execution_count": 3,
   "id": "52057b8f",
   "metadata": {},
   "outputs": [
    {
     "name": "stdout",
     "output_type": "stream",
     "text": [
      "bienveido al curso de lp3\n",
      "+++Python+++\n"
     ]
    }
   ],
   "source": [
    "saludo()"
   ]
  },
  {
   "cell_type": "code",
   "execution_count": 9,
   "id": "4d0d1d17",
   "metadata": {},
   "outputs": [],
   "source": [
    "#3.2 Metodo que reciben valores\n",
    "\n",
    "def factorial2(numero):\n",
    "    fac = 1\n",
    "    for i in range(1,numero+1):\n",
    "        fac*=i\n",
    "        #fac = fac*i\n",
    "    return fac\n",
    "        "
   ]
  },
  {
   "cell_type": "code",
   "execution_count": 10,
   "id": "d787a081",
   "metadata": {},
   "outputs": [
    {
     "name": "stdout",
     "output_type": "stream",
     "text": [
      "numero: 8\n",
      "El factorial de 8 es 40320\n"
     ]
    }
   ],
   "source": [
    "numero = int(input(\"numero: \"))\n",
    "print(f\"El factorial de {numero} es {factorial2(numero)}\")"
   ]
  },
  {
   "cell_type": "code",
   "execution_count": 11,
   "id": "a692ce2f",
   "metadata": {},
   "outputs": [],
   "source": [
    "#otro ejemplo , calcular el igv\n",
    "def obtenerigv(importe):\n",
    "    return importe*0.19"
   ]
  },
  {
   "cell_type": "code",
   "execution_count": 12,
   "id": "b9c311dc",
   "metadata": {},
   "outputs": [
    {
     "data": {
      "text/plain": [
       "28.5"
      ]
     },
     "execution_count": 12,
     "metadata": {},
     "output_type": "execute_result"
    }
   ],
   "source": [
    "obtenerigv(150)"
   ]
  },
  {
   "cell_type": "code",
   "execution_count": null,
   "id": "83f74701",
   "metadata": {},
   "outputs": [],
   "source": []
  }
 ],
 "metadata": {
  "kernelspec": {
   "display_name": "Python 3 (ipykernel)",
   "language": "python",
   "name": "python3"
  },
  "language_info": {
   "codemirror_mode": {
    "name": "ipython",
    "version": 3
   },
   "file_extension": ".py",
   "mimetype": "text/x-python",
   "name": "python",
   "nbconvert_exporter": "python",
   "pygments_lexer": "ipython3",
   "version": "3.9.12"
  }
 },
 "nbformat": 4,
 "nbformat_minor": 5
}
