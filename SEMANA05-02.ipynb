{
 "cells": [
  {
   "cell_type": "markdown",
   "id": "ba7ef884",
   "metadata": {},
   "source": [
    "# SEMANA3"
   ]
  },
  {
   "cell_type": "markdown",
   "id": "10b5c399",
   "metadata": {},
   "source": [
    "TEMAS:\n",
    "1.coleccio de datos\n",
    "2.etructuera deciivas y estructuras repetitivas\n",
    "3.funciones\n",
    "4.clases y objetos"
   ]
  },
  {
   "cell_type": "markdown",
   "id": "61c42510",
   "metadata": {},
   "source": [
    "2.Bucles y condiciones"
   ]
  },
  {
   "cell_type": "code",
   "execution_count": null,
   "id": "5809a91b",
   "metadata": {},
   "outputs": [],
   "source": [
    "#2.1 estrucutras deciiva(if,elif,else)"
   ]
  },
  {
   "cell_type": "code",
   "execution_count": 11,
   "id": "3a3a2a65",
   "metadata": {},
   "outputs": [
    {
     "name": "stdout",
     "output_type": "stream",
     "text": [
      "producto 1: 5264\n",
      "producto 2: 564\n",
      "producto 3: 15\n",
      "5258.7\n"
     ]
    }
   ],
   "source": [
    "p1 = float(input(\"producto 1: \"))\n",
    "p2 = float(input(\"producto 2: \"))\n",
    "p3 = float(input(\"producto 3: \"))\n",
    "total = p1 + p2 + p3\n",
    "if total >=1000:\n",
    "    total *=0.9\n",
    "    print(total)"
   ]
  },
  {
   "cell_type": "code",
   "execution_count": 7,
   "id": "65f1643e",
   "metadata": {},
   "outputs": [
    {
     "name": "stdout",
     "output_type": "stream",
     "text": [
      "Ingrese el apellido del estudiante: OTAZU\n",
      "El apellido está en la lista.\n"
     ]
    }
   ],
   "source": [
    "tupla_apellido =('FIGUEROA', 'GARCIA', 'GUTIERREZ', 'ISLA', 'LOPEZ', 'LUQUE', 'MAMANI', 'MARCANI', 'MONDRAGON', 'MORENO', 'MUÑOZ', 'NAVARRO', 'OTAZU', 'PASCACIO','RAMON', 'TENORIO', 'VEGAS')\n",
    "tupla_apellido\n",
    "apellido_estudiante = input(\"Ingrese el apellido del estudiante: \")\n",
    "\n",
    "if apellido_estudiante in tupla_apellido:\n",
    "    print(\"El apellido está en la lista.\")\n",
    "else:\n",
    "    print(\"El apellido no está en la lista.\")"
   ]
  },
  {
   "cell_type": "code",
   "execution_count": null,
   "id": "c42173a6",
   "metadata": {},
   "outputs": [],
   "source": [
    "#PROBLEMA2"
   ]
  },
  {
   "cell_type": "code",
   "execution_count": null,
   "id": "ab75a08b",
   "metadata": {},
   "outputs": [],
   "source": [
    "VENTAS = float(input(\"Iporte de vent realizadas\"))\n",
    "if ventas < 0;\n",
    "print(\"DTO ERRONEOS\")\n",
    "elif ventas<=1000:\n",
    "    \n"
   ]
  },
  {
   "cell_type": "code",
   "execution_count": null,
   "id": "49b48c2e",
   "metadata": {},
   "outputs": [],
   "source": [
    "#PROBLEMA3"
   ]
  },
  {
   "cell_type": "code",
   "execution_count": 1,
   "id": "f46fa4f5",
   "metadata": {},
   "outputs": [
    {
     "name": "stdout",
     "output_type": "stream",
     "text": [
      "ingree cadenahsdfd\n",
      "h\n",
      "s\n",
      "d\n",
      "f\n",
      "d\n"
     ]
    }
   ],
   "source": [
    "cadena = input(\"ingree cadena\")\n",
    "for caracter in cadena:\n",
    "    print(caracter)"
   ]
  },
  {
   "cell_type": "code",
   "execution_count": 3,
   "id": "2f6d8932",
   "metadata": {},
   "outputs": [
    {
     "name": "stdout",
     "output_type": "stream",
     "text": [
      "0\n",
      "1\n",
      "2\n",
      "3\n",
      "4\n",
      "5\n",
      "6\n",
      "7\n",
      "8\n",
      "9\n",
      "10\n"
     ]
    }
   ],
   "source": [
    "#impriir lo nmero del 0-10\n",
    "\n",
    "for numero in range(0,11):\n",
    "    print(numero)"
   ]
  },
  {
   "cell_type": "code",
   "execution_count": 7,
   "id": "8481bbe4",
   "metadata": {},
   "outputs": [
    {
     "name": "stdout",
     "output_type": "stream",
     "text": [
      "10\n",
      "12\n",
      "14\n",
      "16\n",
      "18\n",
      "20\n"
     ]
    }
   ],
   "source": [
    "#impriir lo nmero del 10 a 20\n",
    "\n",
    "for numero in range(10,22,2):\n",
    "    print(numero)"
   ]
  },
  {
   "cell_type": "code",
   "execution_count": 8,
   "id": "f0d6f7c7",
   "metadata": {},
   "outputs": [
    {
     "name": "stdout",
     "output_type": "stream",
     "text": [
      "1\n",
      "2\n",
      "3\n",
      "4\n",
      "5\n",
      "6\n",
      "7\n",
      "8\n",
      "9\n",
      "10\n"
     ]
    }
   ],
   "source": [
    "#while\n",
    "\n",
    "numero = 1\n",
    "fin = 10\n",
    "while numero <=fin:\n",
    "    print(numero)\n",
    "    numero+=1"
   ]
  },
  {
   "cell_type": "code",
   "execution_count": null,
   "id": "9fbf0c8e",
   "metadata": {},
   "outputs": [],
   "source": []
  }
 ],
 "metadata": {
  "kernelspec": {
   "display_name": "Python 3 (ipykernel)",
   "language": "python",
   "name": "python3"
  },
  "language_info": {
   "codemirror_mode": {
    "name": "ipython",
    "version": 3
   },
   "file_extension": ".py",
   "mimetype": "text/x-python",
   "name": "python",
   "nbconvert_exporter": "python",
   "pygments_lexer": "ipython3",
   "version": "3.9.12"
  }
 },
 "nbformat": 4,
 "nbformat_minor": 5
}
