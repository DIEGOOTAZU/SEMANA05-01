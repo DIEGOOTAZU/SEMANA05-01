{
 "cells": [
  {
   "cell_type": "markdown",
   "id": "4a0f258e",
   "metadata": {},
   "source": [
    "# SEMANA5"
   ]
  },
  {
   "cell_type": "markdown",
   "id": "bc805df7",
   "metadata": {},
   "source": [
    "TEMAS:\n",
    "1.coleccio de datos\n",
    "2.etructuera deciivas y estructuras repetitivas\n",
    "3.funciones\n",
    "4.clases y objetos"
   ]
  },
  {
   "cell_type": "code",
   "execution_count": 1,
   "id": "9d659105",
   "metadata": {},
   "outputs": [],
   "source": [
    "#PROBLEMA1\n",
    "\n",
    "class Persona:\n",
    "    nombre = \"\"\n",
    "    apellido = \"\"\n",
    "    dni = \"\"\n",
    "    talla = 0"
   ]
  },
  {
   "cell_type": "code",
   "execution_count": 7,
   "id": "d9b0ad7f",
   "metadata": {},
   "outputs": [
    {
     "name": "stdout",
     "output_type": "stream",
     "text": [
      "persona1\n",
      "Nombre: DIEGO\n",
      "Apellidos: OTAZÚ QUISPE\n",
      "DNI: 74605974\n",
      "talla: 1.72\n"
     ]
    }
   ],
   "source": [
    "persona1 = Persona()\n",
    "\n",
    "#asignamos valores al oobjeto\n",
    "persona1.nombre = \"DIEGO\"\n",
    "persona1.apellidos = \"OTAZÚ QUISPE\"\n",
    "persona1.dni = \"74605974\"\n",
    "persona1.talla = 1.72\n",
    "\n",
    "#par mosstralr valores del objeto\n",
    "print(\"persona1\")\n",
    "print(f\"Nombre: {persona1.nombre}\")\n",
    "print(f\"Apellidos: {persona1.apellidos}\")\n",
    "print(f\"DNI: {persona1.dni}\")\n",
    "print(f\"talla: {persona1.talla}\")"
   ]
  },
  {
   "cell_type": "code",
   "execution_count": 8,
   "id": "24f503a8",
   "metadata": {},
   "outputs": [],
   "source": [
    "#POBLEMA2\n",
    "#CREARR LA SIGUIENTE CLASE CON LOS SIGUIENTE CONTRUSCTORES\n",
    "#CLASE:CURSPSO\n",
    "#TRIBUTO: CODIGO, NOMBRE, HORAS, CREDITOS\n"
   ]
  },
  {
   "cell_type": "code",
   "execution_count": 10,
   "id": "d2b3252a",
   "metadata": {},
   "outputs": [
    {
     "ename": "SyntaxError",
     "evalue": "invalid syntax (2055473885.py, line 4)",
     "output_type": "error",
     "traceback": [
      "\u001b[1;36m  Input \u001b[1;32mIn [10]\u001b[1;36m\u001b[0m\n\u001b[1;33m    def __init__(self, codigo, nombre, horas, creditos)\u001b[0m\n\u001b[1;37m                                                       ^\u001b[0m\n\u001b[1;31mSyntaxError\u001b[0m\u001b[1;31m:\u001b[0m invalid syntax\n"
     ]
    }
   ],
   "source": [
    "#SOLUCION\n",
    "\n",
    "class curso:\n",
    "    def __init__(self, codigo, nombre, horas, creditos)\n",
    "        self.codigo = codigo\n",
    "        self.nombre = nombre\n",
    "        self.horas = horas\n",
    "        self.creditos = creditos\n",
    "    \n",
    "    def mostrar_datos_curso(self):\n",
    "        print(f\"Curso: {self.nombre}\")\n",
    "        print(f\"codigo: {self.codigo}\")\n",
    "        print(f\"horas: {self.horas}\")\n",
    "        print(f\"creditos: {self.creditos}\")"
   ]
  },
  {
   "cell_type": "code",
   "execution_count": null,
   "id": "a2cd0a8e",
   "metadata": {},
   "outputs": [],
   "source": []
  }
 ],
 "metadata": {
  "kernelspec": {
   "display_name": "Python 3 (ipykernel)",
   "language": "python",
   "name": "python3"
  },
  "language_info": {
   "codemirror_mode": {
    "name": "ipython",
    "version": 3
   },
   "file_extension": ".py",
   "mimetype": "text/x-python",
   "name": "python",
   "nbconvert_exporter": "python",
   "pygments_lexer": "ipython3",
   "version": "3.9.12"
  }
 },
 "nbformat": 4,
 "nbformat_minor": 5
}
